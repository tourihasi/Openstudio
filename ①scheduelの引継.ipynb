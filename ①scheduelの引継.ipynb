{
  "nbformat": 4,
  "nbformat_minor": 0,
  "metadata": {
    "colab": {
      "provenance": [],
      "authorship_tag": "ABX9TyPUxW2ByJRwqbNYsKJlifwq",
      "include_colab_link": true
    },
    "kernelspec": {
      "name": "python3",
      "display_name": "Python 3"
    },
    "language_info": {
      "name": "python"
    }
  },
  "cells": [
    {
      "cell_type": "markdown",
      "metadata": {
        "id": "view-in-github",
        "colab_type": "text"
      },
      "source": [
        "<a href=\"https://colab.research.google.com/github/tourihasi/Openstudio/blob/main/scheduel%E3%81%AE%E5%BC%95%E7%B6%99.ipynb\" target=\"_parent\"><img src=\"https://colab.research.google.com/assets/colab-badge.svg\" alt=\"Open In Colab\"/></a>"
      ]
    },
    {
      "cell_type": "code",
      "execution_count": 1,
      "metadata": {
        "colab": {
          "base_uri": "https://localhost:8080/",
          "height": 388
        },
        "id": "5O1Lmm-2dxHz",
        "outputId": "5460626a-bbe1-44ae-e508-19182aa1184a"
      },
      "outputs": [
        {
          "output_type": "error",
          "ename": "ModuleNotFoundError",
          "evalue": "No module named 'openstudio'",
          "traceback": [
            "\u001b[0;31m---------------------------------------------------------------------------\u001b[0m",
            "\u001b[0;31mModuleNotFoundError\u001b[0m                       Traceback (most recent call last)",
            "\u001b[0;32m/tmp/ipython-input-293220284.py\u001b[0m in \u001b[0;36m<cell line: 0>\u001b[0;34m()\u001b[0m\n\u001b[1;32m      1\u001b[0m \u001b[0;31m# 1. インポート ------------------------------------------------------------\u001b[0m\u001b[0;34m\u001b[0m\u001b[0;34m\u001b[0m\u001b[0m\n\u001b[0;32m----> 2\u001b[0;31m \u001b[0;32mimport\u001b[0m \u001b[0mopenstudio\u001b[0m \u001b[0;32mas\u001b[0m \u001b[0mosd\u001b[0m\u001b[0;34m\u001b[0m\u001b[0;34m\u001b[0m\u001b[0m\n\u001b[0m\u001b[1;32m      3\u001b[0m \u001b[0;34m\u001b[0m\u001b[0m\n\u001b[1;32m      4\u001b[0m \u001b[0;31m# 2. ヘルパー関数 ----------------------------------------------------------\u001b[0m\u001b[0;34m\u001b[0m\u001b[0;34m\u001b[0m\u001b[0m\n\u001b[1;32m      5\u001b[0m \u001b[0;31m# 2.1 Optional返却の ByName で存在確認\u001b[0m\u001b[0;34m\u001b[0m\u001b[0;34m\u001b[0m\u001b[0m\n",
            "\u001b[0;31mModuleNotFoundError\u001b[0m: No module named 'openstudio'",
            "",
            "\u001b[0;31m---------------------------------------------------------------------------\u001b[0;32m\nNOTE: If your import is failing due to a missing package, you can\nmanually install dependencies using either !pip or !apt.\n\nTo view examples of installing some common dependencies, click the\n\"Open Examples\" button below.\n\u001b[0;31m---------------------------------------------------------------------------\u001b[0m\n"
          ],
          "errorDetails": {
            "actions": [
              {
                "action": "open_url",
                "actionText": "Open Examples",
                "url": "/notebooks/snippets/importing_libraries.ipynb"
              }
            ]
          }
        }
      ],
      "source": [
        "# 1. インポート ------------------------------------------------------------\n",
        "import openstudio as osd\n",
        "\n",
        "# 2. ヘルパー関数 ----------------------------------------------------------\n",
        "# 2.1 Optional返却の ByName で存在確認\n",
        "def _exists_by_name(optional_getter, name: str) -> bool:\n",
        "    try:\n",
        "        opt = optional_getter(name)\n",
        "        return opt.is_initialized()\n",
        "    except Exception:\n",
        "        return False\n",
        "\n",
        "# 2.2 nameString() をキーに簡易インデックス作成\n",
        "def _index_by_name(objs):\n",
        "    d = {}\n",
        "    for o in objs:\n",
        "        try:\n",
        "            d[o.nameString()] = o\n",
        "        except Exception:\n",
        "            pass\n",
        "    return d\n",
        "\n",
        "# 3. ScheduleTypeLimits の転記（重複回避）----------------------------------\n",
        "def clone_schedule_type_limits(src_m: osd.model.Model, dst_m: osd.model.Model) -> int:\n",
        "    dst_idx = _index_by_name(dst_m.getScheduleTypeLimitss())\n",
        "    copied = 0\n",
        "    for stl in src_m.getScheduleTypeLimitss():\n",
        "        name = stl.nameString()\n",
        "        if name in dst_idx:\n",
        "            continue\n",
        "        _ = stl.clone(dst_m)\n",
        "        copied += 1\n",
        "        print(\"[Copy] ScheduleTypeLimits:\", name)\n",
        "    print(f\"[Info] ScheduleTypeLimits copied: {copied}\")\n",
        "    return copied\n",
        "\n",
        "# 4. 内部定義スケジュールの転記（割当てなし／Schedule:Fileは除外）------------\n",
        "def clone_internal_schedules(src_m: osd.model.Model, dst_m: osd.model.Model) -> None:\n",
        "    # 4.1 依存する TypeLimits を先に転記\n",
        "    clone_schedule_type_limits(src_m, dst_m)\n",
        "\n",
        "    # 4.2 内部定義スケジュール群を対象化\n",
        "    groups = [\n",
        "        (\"ScheduleRuleset\",       src_m.getScheduleRulesets,       dst_m.getScheduleRulesetByName),\n",
        "        (\"ScheduleConstant\",      src_m.getScheduleConstants,      dst_m.getScheduleConstantByName),\n",
        "        (\"ScheduleCompact\",       src_m.getScheduleCompacts,       dst_m.getScheduleCompactByName),\n",
        "        (\"ScheduleFixedInterval\", src_m.getScheduleFixedIntervals, dst_m.getScheduleFixedIntervalByName),\n",
        "        (\"ScheduleYear\",          src_m.getScheduleYears,          dst_m.getScheduleYearByName),\n",
        "        (\"ScheduleWeek\",          src_m.getScheduleWeeks,          dst_m.getScheduleWeekByName),\n",
        "        (\"ScheduleDay\",           src_m.getScheduleDays,           dst_m.getScheduleDayByName),\n",
        "    ]\n",
        "\n",
        "    # 4.3 クローン実行（同名はスキップ）\n",
        "    total = 0\n",
        "    for label, src_getter, dst_by_name in groups:\n",
        "        copied = 0\n",
        "        for sch in src_getter():\n",
        "            name = sch.nameString()\n",
        "            if not _exists_by_name(dst_by_name, name):\n",
        "                _ = sch.clone(dst_m)\n",
        "                copied += 1\n",
        "                total += 1\n",
        "                print(f\"[Copy] {label}:\", name)\n",
        "        print(f\"[Info] {label} copied: {copied}\")\n",
        "\n",
        "    print(f\"[Done] Internal schedule defs copied (excl. TypeLimits): {total}\")\n",
        "\n",
        "# 5. 使い方（例）-----------------------------------------------------------\n",
        "# src_m = osd.model.Model.load(osd.path(\"source.osm\")).get()\n",
        "# dst_m = osd.model.Model.load(osd.path(\"target.osm\")).get()\n",
        "# clone_internal_schedules(src_m, dst_m)\n",
        "# dst_m.save(osd.path(\"target_schedules_only.osm\"), True)\n"
      ]
    }
  ]
}
