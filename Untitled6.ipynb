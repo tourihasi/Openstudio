{
  "nbformat": 4,
  "nbformat_minor": 0,
  "metadata": {
    "colab": {
      "provenance": [],
      "authorship_tag": "ABX9TyMaBnywvaBceQm45F40vCMe",
      "include_colab_link": true
    },
    "kernelspec": {
      "name": "python3",
      "display_name": "Python 3"
    },
    "language_info": {
      "name": "python"
    }
  },
  "cells": [
    {
      "cell_type": "markdown",
      "metadata": {
        "id": "view-in-github",
        "colab_type": "text"
      },
      "source": [
        "<a href=\"https://colab.research.google.com/github/tourihasi/Openstudio/blob/main/Untitled6.ipynb\" target=\"_parent\"><img src=\"https://colab.research.google.com/assets/colab-badge.svg\" alt=\"Open In Colab\"/></a>"
      ]
    },
    {
      "cell_type": "code",
      "execution_count": null,
      "metadata": {
        "id": "qwb71MNkVCaJ"
      },
      "outputs": [],
      "source": [
        "\n",
        "        # ================= Colab: PlantLoop/AirLoop を“複製のみ” =================\\n\",\n",
        "        # 0) インストール\\n\",\n",
        "        !pip -q install openstudio\\n\",\n",
        "        \\n\",\n",
        "        import openstudio as osd\\n\",\n",
        "        from google.colab import files\\n\",\n",
        "        \\n\",\n",
        "        def load_model(path: str) -> osd.model.Model:\\n\",\n",
        "            m = osd.model.Model.load(osd.path(path))\\n\",\n",
        "            if m.is_initialized():\\n\",\n",
        "                return m.get()\\n\",\n",
        "            raise RuntimeError(f\\\"OpenStudio Model の読み込みに失敗: {path}\\\")\\n\",\n",
        "        \\n\",\n",
        "        # 1) 供与側（HVACあり）をアップロード\\n\",\n",
        "        print(\\\"”引き継ぐモデルデータを選択してください”（HVACあり）\\\")\\n\",\n",
        "        uploaded_src = files.upload()\\n\",\n",
        "        assert uploaded_src, \\\"ファイルがアップロードされていません。\\\"\\n\",\n",
        "        src_candidates = [n for n in uploaded_src.keys() if n.lower().endswith(\\\".osm\\\")]\\n\",\n",
        "        assert src_candidates, \\\"拡張子 .osm のファイルが見つかりません。\\\"\\n\",\n",
        "        src = src_candidates[0]  # ラベルに依らず、最初の .osm を採用\\n\",\n",
        "        print(\\\"Source OSM :\\\", src)\\n\",\n",
        "        \\n\",\n",
        "        # 2) 受け側（gbXML取込後）をアップロード\\n\",\n",
        "        print(\\\"“システムを付加するモデルを選択してください”（gbXML取込後）\\\")\\n\",\n",
        "        uploaded_dst = files.upload()\\n\",\n",
        "        assert uploaded_dst, \\\"ファイルがアップロードされていません。\\\"\\n\",\n",
        "        dst_candidates = [n for n in uploaded_dst.keys() if n.lower().endswith(\\\".osm\\\")]\\n\",\n",
        "        assert dst_candidates, \\\"拡張子 .osm のファイルが見つかりません。\\\"\\n\",\n",
        "        dst = dst_candidates[0]  # ラベルに依らず、最初の .osm を採用\\n\",\n",
        "        print(\\\"Target OSM :\\\", dst)\\n\",\n",
        "        \\n\",\n",
        "        # 3) モデル読み込み\\n\",\n",
        "        src_m = load_model(src)\\n\",\n",
        "        dst_m = load_model(dst)\\n\",\n",
        "        \\n\",\n",
        "        # 室外機\\n\",\n",
        "        for vrf in src_m.getAirConditionerVariableRefrigerantFlows():\\n\",\n",
        "        \\n\",\n",
        "            _ = vrf.clone(dst_m)\\n\",\n",
        "            print(\\\"[Clone] VRF:\\\", vrf.nameString())\\n\",\n",
        "        \\n\",\n",
        "        # 室内機\\n\",\n",
        "        for term in src_m.getZoneHVACTerminalUnitVariableRefrigerantFlows():\\n\",\n",
        "            _ = term.clone(dst_m)\\n\",\n",
        "            print(\\\"[Clone] VRF Terminal:\\\", term.nameString())\\n\",\n",
        "        \\n\",\n",
        "        # --- 1) VRF親機を clone & マップ化 ---\\n\",\n",
        "        vrf_map = {}\\n\",\n",
        "        for vrf_src in src_m.getAirConditionerVariableRefrigerantFlows():\\n\",\n",
        "            vrf_dst = vrf_src.clone(dst_m).to_AirConditionerVariableRefrigerantFlow().get()\\n\",\n",
        "            vrf_map[str(vrf_src.handle())] = vrf_dst\\n\",\n",
        "            print(\\\"[Clone] VRF (outdoor):\\\", vrf_src.nameString(), \\\"->\\\", vrf_dst.nameString())\\n\",\n",
        "        \\n\",\n",
        "        # --- 2) VRF端末を clone & 親に再接続 ---\\n\",\n",
        "        for term_src in src_m.getZoneHVACTerminalUnitVariableRefrigerantFlows():\\n\",\n",
        "            term_dst = term_src.clone(dst_m).to_ZoneHVACTerminalUnitVariableRefrigerantFlow().get()\\n\",\n",
        "            parent_opt = term_src.airConditionerVariableRefrigerantFlow()  # Optional\\n\",\n",
        "            if parent_opt.is_initialized():\\n\",\n",
        "                parent_src = parent_opt.get()\\n\",\n",
        "                parent_dst = vrf_map.get(str(parent_src.handle()))\\n\",\n",
        "                if parent_dst:\\n\",\n",
        "                    parent_dst.addTerminal(term_dst)\\n\",\n",
        "                    print(\\\"[Link ]\\\", term_dst.nameString(), \\\"->\\\", parent_dst.nameString())\\n\",\n",
        "                else:\\n\",\n",
        "                    print(\\\"[Warn ] 対応する親VRFが見つかりません:\\\", term_src.nameString())\\n\",\n",
        "        \\n\",\n",
        "        for fc in src_m.getZoneHVACFourPipeFanCoils():\\n\",\n",
        "            _ = fc.clone(dst_m)\\n\",\n",
        "            print(\\\"[Clone] FanCoil:\\\", fc.nameString())\\n\",\n",
        "        \\n\",\n",
        "        for ptac in src_m.getZoneHVACPackagedTerminalAirConditioners():\\n\",\n",
        "            _ = ptac.clone(dst_m)\\n\",\n",
        "            print(\\\"[Clone] PTAC:\\\", ptac.nameString())\\n\",\n",
        "        \\n\",\n",
        "        for pthp in src_m.getZoneHVACPackagedTerminalHeatPumps():\\n\",\n",
        "            _ = pthp.clone(dst_m)\\n\",\n",
        "            print(\\\"[Clone] PTHP:\\\", pthp.nameString())\\n\",\n",
        "        \\n\",\n",
        "        # 6) 名前重複の整理 & 保存\\n\",\n",
        "        \\n\",\n",
        "        OUT = \\\"target_with_HVAC.osm\\\"\\n\",\n",
        "        dst_m.save(osd.path(OUT), True)\\n\",\n",
        "        print(\\\"Saved:\\\", OUT)\\n\",\n",
        "\n",
        "        # 7) ダウンロード\\n\",\n",
        "        files.download(OUT)\\n\",\n",
        "        # ======================================================================\\n\""
      ]
    }
  ]
}